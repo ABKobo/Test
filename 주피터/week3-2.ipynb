{
 "cells": [
  {
   "cell_type": "code",
   "execution_count": 11,
   "id": "b94ffb27-d668-484a-9b82-20f36d719930",
   "metadata": {},
   "outputs": [
    {
     "name": "stdout",
     "output_type": "stream",
     "text": [
      "140706788658264 140706788111552 140706788111552\n",
      "A A\n",
      "A B\n",
      "6 6\n",
      "['A', 'b', 'c', [6, 4]] ['A', 'b', 'c', [6, 2]]\n"
     ]
    }
   ],
   "source": [
    "lis = ['a','b','c','c']\n",
    "print(id(lis[0]),id(lis[2]),id(lis[3])) # 리스트 메모리, 리스트속 스트링 메모리 따로\n",
    "lis[3] = [1,2] # 추가된 리스트 메모리 따\n",
    "v = lis\n",
    "v[0] = \"A\"\n",
    "print(lis[0], v[0]) # 리스트 공유 (같은 메모리이기 때문)\n",
    "v = lis[:] # = v = lis.copy() (다른 메모리)\n",
    "v[0] = \"B\"\n",
    "print(lis[0], v[0])\n",
    "lis[3][0] += 5\n",
    "print(lis[3][0], v[3][0]) # 같은 결과: 안쪽 리스트는 여전히 같은 메모 (세트, 튜플, 딕셔너리도 동일)\n",
    "\n",
    "import copy\n",
    "v = copy.deepcopy(lis) # 리스트 속 리스트 메모리 다르게 카피\n",
    "lis[3][1] *=2\n",
    "print(lis, v)"
   ]
  },
  {
   "cell_type": "code",
   "execution_count": 13,
   "id": "fc09c77a-033e-4a71-a5c0-5242af8f545c",
   "metadata": {},
   "outputs": [
    {
     "ename": "TypeError",
     "evalue": "'tuple' object does not support item assignment",
     "output_type": "error",
     "traceback": [
      "\u001b[1;31m---------------------------------------------------------------------------\u001b[0m",
      "\u001b[1;31mTypeError\u001b[0m                                 Traceback (most recent call last)",
      "Cell \u001b[1;32mIn[13], line 3\u001b[0m\n\u001b[0;32m      1\u001b[0m \u001b[38;5;66;03m# Tuple\u001b[39;00m\n\u001b[0;32m      2\u001b[0m v \u001b[38;5;241m=\u001b[39m (\u001b[38;5;241m1\u001b[39m,\u001b[38;5;241m2\u001b[39m,\u001b[38;5;124m\"\u001b[39m\u001b[38;5;124msam\u001b[39m\u001b[38;5;124m\"\u001b[39m)\n\u001b[1;32m----> 3\u001b[0m v[\u001b[38;5;241m0\u001b[39m] \u001b[38;5;241m=\u001b[39m \u001b[38;5;241m3\u001b[39m\n",
      "\u001b[1;31mTypeError\u001b[0m: 'tuple' object does not support item assignment"
     ]
    }
   ],
   "source": [
    "# Tuple (리스트 보다 메모리 차지 적음)\n",
    "v = (1,2,\"sam\")\n",
    "v[0] = 3 # 에러: 스트링 처럼 불변"
   ]
  },
  {
   "cell_type": "code",
   "execution_count": 20,
   "id": "79e5a784-e9a1-442f-b596-9e84a352ee3b",
   "metadata": {},
   "outputs": [
    {
     "name": "stdout",
     "output_type": "stream",
     "text": [
      "[1, 2, 'a'] (1, 2, 'a')\n"
     ]
    }
   ],
   "source": [
    "v = [1,2,\"a\"]\n",
    "t = tuple(v)\n",
    "print(v,t)"
   ]
  },
  {
   "cell_type": "code",
   "execution_count": 21,
   "id": "a597cd8e-f4fc-4f62-b6bc-ac7c5f276575",
   "metadata": {},
   "outputs": [
    {
     "name": "stdout",
     "output_type": "stream",
     "text": [
      "<class 'int'> <class 'tuple'>\n"
     ]
    }
   ],
   "source": [
    "a=(4) #int로 인식\n",
    "b=(4,) # 하나로 튜플 할려면 뒤에 ',' 필요\n",
    "print(type(a), type(b))"
   ]
  },
  {
   "cell_type": "code",
   "execution_count": 25,
   "id": "831f5c96-058e-4c54-8192-e7aba1601666",
   "metadata": {},
   "outputs": [
    {
     "name": "stdout",
     "output_type": "stream",
     "text": [
      "2\n",
      "3\n",
      "(1, 2, 'sam', 2, 2, 1, 2, 'sam', 2, 2)\n"
     ]
    }
   ],
   "source": [
    "v1 = (1,2,'sam',2,2)\n",
    "print(v1.index('sam'))\n",
    "print(v1.count(2))"
   ]
  },
  {
   "cell_type": "code",
   "execution_count": 26,
   "id": "0b2daf84-fa7f-406f-b1f0-cdf67c8f7ca1",
   "metadata": {},
   "outputs": [
    {
     "name": "stdout",
     "output_type": "stream",
     "text": [
      "[1, 2, 3]\n"
     ]
    }
   ],
   "source": [
    "v = (2,3,1)\n",
    "print(sorted(v)) #리스트로 바꿔서 정"
   ]
  },
  {
   "cell_type": "code",
   "execution_count": 27,
   "id": "75843c6a-f837-4644-96c5-d631a03d0308",
   "metadata": {},
   "outputs": [
    {
     "ename": "TypeError",
     "evalue": "'set' object is not subscriptable",
     "output_type": "error",
     "traceback": [
      "\u001b[1;31m---------------------------------------------------------------------------\u001b[0m",
      "\u001b[1;31mTypeError\u001b[0m                                 Traceback (most recent call last)",
      "Cell \u001b[1;32mIn[27], line 2\u001b[0m\n\u001b[0;32m      1\u001b[0m st \u001b[38;5;241m=\u001b[39m {\u001b[38;5;241m1\u001b[39m,\u001b[38;5;241m2\u001b[39m,\u001b[38;5;124m\"\u001b[39m\u001b[38;5;124mthree\u001b[39m\u001b[38;5;124m\"\u001b[39m}\n\u001b[1;32m----> 2\u001b[0m \u001b[38;5;28mprint\u001b[39m(st[\u001b[38;5;241m0\u001b[39m])\n",
      "\u001b[1;31mTypeError\u001b[0m: 'set' object is not subscriptable"
     ]
    }
   ],
   "source": [
    "st = {1,2,\"three\"}\n",
    "print(st[0]) # 에러 (세트는 순서 X)"
   ]
  },
  {
   "cell_type": "code",
   "execution_count": 28,
   "id": "f4946c89-261d-4a28-8f7d-32cde733e7cb",
   "metadata": {},
   "outputs": [
    {
     "name": "stdout",
     "output_type": "stream",
     "text": [
      "{3, (1, 2)}\n"
     ]
    }
   ],
   "source": [
    "tp = (1,2)\n",
    "st = {tp,3}\n",
    "print(st) # 튜플은 안변해서 추가 가능"
   ]
  },
  {
   "cell_type": "code",
   "execution_count": 31,
   "id": "cad5ac53-46ce-4971-9852-df1bf11ac747",
   "metadata": {},
   "outputs": [
    {
     "ename": "TypeError",
     "evalue": "unhashable type: 'list'",
     "output_type": "error",
     "traceback": [
      "\u001b[1;31m---------------------------------------------------------------------------\u001b[0m",
      "\u001b[1;31mTypeError\u001b[0m                                 Traceback (most recent call last)",
      "Cell \u001b[1;32mIn[31], line 2\u001b[0m\n\u001b[0;32m      1\u001b[0m ls \u001b[38;5;241m=\u001b[39m [\u001b[38;5;241m1\u001b[39m,\u001b[38;5;241m2\u001b[39m]\n\u001b[1;32m----> 2\u001b[0m st \u001b[38;5;241m=\u001b[39m {ls,\u001b[38;5;241m3\u001b[39m}\n\u001b[0;32m      3\u001b[0m \u001b[38;5;28mprint\u001b[39m(st)\n",
      "\u001b[1;31mTypeError\u001b[0m: unhashable type: 'list'"
     ]
    }
   ],
   "source": [
    "ls = [1,2]\n",
    "st = {ls,3}\n",
    "print(st) # 에러, 리스트, 세트, 딕셔너리 등"
   ]
  },
  {
   "cell_type": "code",
   "execution_count": 32,
   "id": "700ef54c-5c44-45ba-a666-c2c54ccb380b",
   "metadata": {},
   "outputs": [
    {
     "name": "stdout",
     "output_type": "stream",
     "text": [
      "True\n"
     ]
    }
   ],
   "source": [
    "st = {1,2,3}\n",
    "print(st=={3,1,2}) # 순서 관계 X"
   ]
  },
  {
   "cell_type": "code",
   "execution_count": 33,
   "id": "685a8e3d-34f2-426c-9120-c16c413b8861",
   "metadata": {},
   "outputs": [
    {
     "name": "stdout",
     "output_type": "stream",
     "text": [
      "{1, 2, 4, 'r', 't'}\n"
     ]
    }
   ],
   "source": [
    "t1 = (1,4,'t')\n",
    "t2 = (2,4,'t','r')\n",
    "tp = t1+t2\n",
    "st = set(tp) # 세트에는 중복 제거\n",
    "print(st)"
   ]
  },
  {
   "cell_type": "code",
   "execution_count": 37,
   "id": "0247acbd-fec6-4d99-9653-d52fbc21b631",
   "metadata": {},
   "outputs": [
    {
     "name": "stdout",
     "output_type": "stream",
     "text": [
      "{'C', 'A', 'B'}\n",
      "{'C'}\n",
      "{'A', 'B'}\n",
      "{'C', 'D', 'A', 'B'}\n",
      "{'C', 'B'}\n",
      "set()\n"
     ]
    }
   ],
   "source": [
    "s1 = {\"A\",\"C\"}\n",
    "s1.add(\"B\")\n",
    "print(s1)\n",
    "s2 = {\"D\",\"C\"}\n",
    "re = s1.intersection(s2)\n",
    "print(re) # 겹치는거 출력\n",
    "re = s1.difference(s2)\n",
    "print(re) # 다른거 출력\n",
    "re = s1.union(s2) #s1+s2\n",
    "print(re)\n",
    "s1.remove(\"A\")\n",
    "print(s1)\n",
    "s1.clear() #완전 제거\n",
    "print(s1)\n"
   ]
  },
  {
   "cell_type": "code",
   "execution_count": 39,
   "id": "e93cd6c2-2997-46e3-9718-99e7e27ab513",
   "metadata": {},
   "outputs": [
    {
     "name": "stdout",
     "output_type": "stream",
     "text": [
      "2\n",
      "4\n"
     ]
    }
   ],
   "source": [
    "dic = dict()\n",
    "dic[\"A\"]=1\n",
    "dic[\"B\"]=2\n",
    "print(dic[\"B\"])\n",
    "dic = {\"C\":3, \"D\":4}\n",
    "print(dic[\"D\"])"
   ]
  },
  {
   "cell_type": "code",
   "execution_count": 44,
   "id": "b2b0a04a-dc11-459d-a991-826e603c7d7d",
   "metadata": {},
   "outputs": [
    {
     "name": "stdout",
     "output_type": "stream",
     "text": [
      "1\n",
      "{'A': 1, 'B': 2, 'C': 3}\n",
      "dict_keys(['A', 'B', 'C'])\n",
      "['A', 'B', 'C']\n",
      "dict_values([1, 2, 3])\n",
      "(1, 2, 3)\n",
      "dict_items([('A', 1), ('B', 2), ('C', 3)])\n",
      "1 {'B': 2, 'C': 3}\n",
      "1 {'B': 2, 'C': 3, 'A': 1}\n",
      "{'B': 2, 'C': 3, 'A': 1}\n",
      "{}\n"
     ]
    }
   ],
   "source": [
    "dic = {\"A\":1, \"B\":2, \"C\":3}\n",
    "d1 = dic.get(\"A\")\n",
    "print(d1)\n",
    "print(dic)\n",
    "\n",
    "dic_key = dic.keys()\n",
    "print(dic_key) #키만 가져옴\n",
    "print(list(dic_key))\n",
    "\n",
    "v = dic.values()\n",
    "print(v) # 값만 가져옴\n",
    "print(tuple(v))\n",
    "\n",
    "it = dic.items()\n",
    "print(it) # 다 가져옴\n",
    "\n",
    "pp = dic.pop(\"A\") #A 추출\n",
    "print(pp, dic) #추출값, 추출 이후 값\n",
    "\n",
    "sd = dic.setdefault(\"A\",1)\n",
    "print(sd, dic) #추가\n",
    "dic.setdefault(\"B\",4) #이미 있는 것은 추가 X\n",
    "print(dic)\n",
    "\n",
    "dic.clear()\n",
    "print(dic)"
   ]
  },
  {
   "cell_type": "code",
   "execution_count": 49,
   "id": "4ed9c7af-e568-41f8-9fc2-c20be9a76277",
   "metadata": {},
   "outputs": [
    {
     "name": "stdout",
     "output_type": "stream",
     "text": [
      "{'C', 'A', 'B'}\n",
      "[1, 8, 6, 7, 5]\n",
      "[1, 8, 'A', 'B', 7, 5]\n",
      "2\n",
      "A\n",
      "2\n"
     ]
    }
   ],
   "source": [
    "L = [1,2,3,4,5]\n",
    "S = {6,7,8}\n",
    "print(s) # 순서 X\n",
    "L[1:-1] = S # 순서 상관 X 추가\n",
    "print(L) \n",
    "D = {\"A\":1, \"B\":2}\n",
    "L[2:-2] = D # 키만 추가\n",
    "print(L)\n",
    "\n",
    "print(len(D)) # 키의 개수만 셈\n",
    "print(min(D.keys())) # 키(알파벳)\n",
    "print(max(D.values())) # 값(숫자)"
   ]
  },
  {
   "cell_type": "code",
   "execution_count": 50,
   "id": "12c7aa33-52b8-4c37-a97a-75e46fc06b4f",
   "metadata": {},
   "outputs": [
    {
     "name": "stdout",
     "output_type": "stream",
     "text": [
      "['A', 'B', 'C']\n"
     ]
    }
   ],
   "source": [
    "name=\"A B C\"\n",
    "ns = name.split() #띄어쓰기 자르고 리스트로 변\n",
    "print(ns)"
   ]
  },
  {
   "cell_type": "code",
   "execution_count": 3,
   "id": "8829a8b9-4d79-450d-9236-c31a779f479a",
   "metadata": {},
   "outputs": [
    {
     "name": "stdout",
     "output_type": "stream",
     "text": [
      "P,SG\n",
      "010-7501-2291\n"
     ]
    }
   ],
   "source": [
    "name = \"P\",\"SG\"\n",
    "nj = \",\".join(name) # 가운데 , 쓴 후 두개 붙\n",
    "print(nj)\n",
    "num = \"010\",\"7501\",\"2291\"\n",
    "nj = \"-\".join(num)\n",
    "print(nj)"
   ]
  },
  {
   "cell_type": "code",
   "execution_count": 53,
   "id": "f1b0ef3c-f6e7-4f97-94ba-a93fd7bce795",
   "metadata": {},
   "outputs": [
    {
     "name": "stdout",
     "output_type": "stream",
     "text": [
      "Hello ['H', 'e', 'l', 'l', 'o'] ('H', 'e', 'l', 'l', 'o')\n"
     ]
    }
   ],
   "source": [
    "str = \"Hello\"\n",
    "lis = list(str)\n",
    "tup = tuple(str)\n",
    "print(str,lis,tup)"
   ]
  },
  {
   "cell_type": "code",
   "execution_count": 4,
   "id": "b65816f1-e12d-43a8-a05b-9d1bd9432c27",
   "metadata": {},
   "outputs": [
    {
     "name": "stdout",
     "output_type": "stream",
     "text": [
      "['a', 'b']\n"
     ]
    }
   ],
   "source": [
    "name = ['a','b']\n",
    "st = str(name)\n",
    "print(st) # [] 통째로 변환 (딕셔너리도 동일)"
   ]
  }
 ],
 "metadata": {
  "kernelspec": {
   "display_name": "Python 3 (ipykernel)",
   "language": "python",
   "name": "python3"
  },
  "language_info": {
   "codemirror_mode": {
    "name": "ipython",
    "version": 3
   },
   "file_extension": ".py",
   "mimetype": "text/x-python",
   "name": "python",
   "nbconvert_exporter": "python",
   "pygments_lexer": "ipython3",
   "version": "3.11.7"
  }
 },
 "nbformat": 4,
 "nbformat_minor": 5
}
