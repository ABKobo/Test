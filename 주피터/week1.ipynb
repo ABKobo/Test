{
 "cells": [
  {
   "cell_type": "markdown",
   "id": "b60337c7-d723-4dd4-a215-b917741d2dc7",
   "metadata": {},
   "source": [
    "# Lecture 2"
   ]
  },
  {
   "cell_type": "code",
   "execution_count": null,
   "id": "de2a84eb-6e9a-456e-b17d-83ccd463b6c1",
   "metadata": {},
   "outputs": [],
   "source": [
    "a=9//-2\n",
    "b=9%-2\n",
    "print(a,b) #반내림 형식"
   ]
  },
  {
   "cell_type": "code",
   "execution_count": null,
   "id": "b1251314-5f1c-423a-b1f8-d7ba23f7118c",
   "metadata": {},
   "outputs": [],
   "source": [
    "'''혹은'''\n",
    "\"\"\"으로 사용가능\"\"\""
   ]
  },
  {
   "cell_type": "code",
   "execution_count": null,
   "id": "4e93a61a-4bb5-4a62-83c0-9d2635e60f2f",
   "metadata": {},
   "outputs": [],
   "source": [
    "print(\"Hello World\") #숫제 아닌 것은 \"\"/'' 사용\n",
    "print('^^',2)"
   ]
  },
  {
   "cell_type": "code",
   "execution_count": null,
   "id": "59d2448e-f5de-4e46-bb8a-b1147d8c5ba7",
   "metadata": {},
   "outputs": [],
   "source": [
    "'''가능한 변수\n",
    "a, _a, a_ (특수문자는 '-' 만 가능), a0, ㅁ\n",
    "불가능한 변수\n",
    "0a (숫자 시작), a a (띄어쓰기)\n",
    "\n",
    "print=5\n",
    "print(print) > print의 역할이 5가됨\n",
    "변수로 명령어 사용 비추\n",
    "'''"
   ]
  },
  {
   "cell_type": "code",
   "execution_count": null,
   "id": "9f3ba469-30b3-470e-84a1-c9bd62a20f4d",
   "metadata": {},
   "outputs": [],
   "source": [
    "a=b=c=10\n",
    "print(a,b,c)\n",
    "a,b,c=1,2,3\n",
    "print(a,b,c)\n",
    "a,b=b,a #자리 변경"
   ]
  },
  {
   "cell_type": "code",
   "execution_count": null,
   "id": "0a662972-adf6-40bd-bc56-4762fdf68d61",
   "metadata": {},
   "outputs": [],
   "source": [
    "a=0\n",
    "a+=1\n",
    "print(a) # = a+1, (-=, *=, /=, %=, //=, **=)"
   ]
  }
 ],
 "metadata": {
  "kernelspec": {
   "display_name": "Python 3 (ipykernel)",
   "language": "python",
   "name": "python3"
  },
  "language_info": {
   "codemirror_mode": {
    "name": "ipython",
    "version": 3
   },
   "file_extension": ".py",
   "mimetype": "text/x-python",
   "name": "python",
   "nbconvert_exporter": "python",
   "pygments_lexer": "ipython3",
   "version": "3.11.7"
  }
 },
 "nbformat": 4,
 "nbformat_minor": 5
}
