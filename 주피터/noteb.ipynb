{
 "cells": [
  {
   "cell_type": "markdown",
   "id": "6fc28569-bc54-428a-b55b-0f56dca5fa26",
   "metadata": {},
   "source": [
    "# 코딩"
   ]
  },
  {
   "cell_type": "code",
   "execution_count": 1,
   "id": "b5664617-e0dc-46a3-a935-dbdbc7903b7a",
   "metadata": {},
   "outputs": [
    {
     "name": "stdout",
     "output_type": "stream",
     "text": [
      "1\n"
     ]
    }
   ],
   "source": [
    "print(1)"
   ]
  },
  {
   "cell_type": "code",
   "execution_count": 5,
   "id": "4771742f-f354-49df-a7b4-cd60c62f6cac",
   "metadata": {},
   "outputs": [],
   "source": [
    "a=1"
   ]
  },
  {
   "cell_type": "code",
   "execution_count": null,
   "id": "6326b107-b1a5-49c7-a780-1956cb657d2c",
   "metadata": {},
   "outputs": [],
   "source": [
    "a=2"
   ]
  },
  {
   "cell_type": "code",
   "execution_count": 6,
   "id": "836d543a-7518-4fc5-bdd9-13e56ed1fea4",
   "metadata": {},
   "outputs": [
    {
     "name": "stdout",
     "output_type": "stream",
     "text": [
      "2\n"
     ]
    }
   ],
   "source": [
    "print(2)"
   ]
  },
  {
   "cell_type": "markdown",
   "id": "b5f1eb57-789d-4571-8a2d-61a6c72a19d6",
   "metadata": {},
   "source": [
    "# #한개"
   ]
  },
  {
   "cell_type": "markdown",
   "id": "d43e484a-c0c2-4a01-89a7-3650d18b0c7a",
   "metadata": {},
   "source": [
    "## #두개"
   ]
  },
  {
   "cell_type": "markdown",
   "id": "7ff7b82f-5f03-4cf5-80ad-cd2ab8d41132",
   "metadata": {},
   "source": [
    "###### #여섯개"
   ]
  },
  {
   "cell_type": "markdown",
   "id": "ccd30f96-609f-492d-ad08-989c7a2bdc0e",
   "metadata": {},
   "source": [
    "#없음"
   ]
  },
  {
   "cell_type": "markdown",
   "id": "ad68c998-c960-4cc3-ada4-73531910677d",
   "metadata": {},
   "source": [
    "1. ㄱ\n",
    "2. ㄴ\n",
    "3. ㄷ\n",
    "4. ㄹ"
   ]
  },
  {
   "cell_type": "markdown",
   "id": "2063d129-853a-4812-baa5-384554b6ec44",
   "metadata": {},
   "source": [
    "- a\n",
    "- b\n",
    "- c\n",
    "- d"
   ]
  },
  {
   "cell_type": "code",
   "execution_count": null,
   "id": "ba236deb-b536-4fb4-ad33-95391032f926",
   "metadata": {},
   "outputs": [],
   "source": []
  }
 ],
 "metadata": {
  "kernelspec": {
   "display_name": "Python 3 (ipykernel)",
   "language": "python",
   "name": "python3"
  },
  "language_info": {
   "codemirror_mode": {
    "name": "ipython",
    "version": 3
   },
   "file_extension": ".py",
   "mimetype": "text/x-python",
   "name": "python",
   "nbconvert_exporter": "python",
   "pygments_lexer": "ipython3",
   "version": "3.11.7"
  }
 },
 "nbformat": 4,
 "nbformat_minor": 5
}
