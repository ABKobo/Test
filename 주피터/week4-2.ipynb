{
 "cells": [
  {
   "cell_type": "code",
   "execution_count": 21,
   "id": "56c95229-8369-4c95-a2a3-7f94f348ae57",
   "metadata": {},
   "outputs": [
    {
     "name": "stdout",
     "output_type": "stream",
     "text": [
      "0 is an even number.\n",
      "1 is an odd number.\n",
      "2 is an even number.\n",
      "3 is an odd number.\n",
      "The end\n"
     ]
    }
   ],
   "source": [
    "for num in range(4):\n",
    "    if num%2==0:\n",
    "        print(f\"{num} is an even number.\")\n",
    "    else:\n",
    "        print(f\"{num} is an odd number.\")\n",
    "print(\"The end\")"
   ]
  },
  {
   "cell_type": "code",
   "execution_count": 31,
   "id": "e531af3a-3c4b-46c5-81cb-f2ed2cd99171",
   "metadata": {},
   "outputs": [
    {
     "name": "stdout",
     "output_type": "stream",
     "text": [
      "D\n",
      "D\n",
      "A\n"
     ]
    }
   ],
   "source": [
    "for i in range(5):\n",
    "    if(i==2):\n",
    "        print(\"A\")\n",
    "        continue # 뒤에 전체 스킵\n",
    "        print(\"B\")\n",
    "    if(i==3):\n",
    "        break # 즉시 종료\n",
    "        print(\"C\")\n",
    "    print(\"D\")\n",
    "else:\n",
    "    print(\"E\") #정상 종료되면 출력"
   ]
  },
  {
   "cell_type": "code",
   "execution_count": null,
   "id": "03eafa1e-a446-4d4c-a47c-91847ee687c5",
   "metadata": {},
   "outputs": [],
   "source": [
    "for i in range(3):\n",
    "    print(i)\n",
    "else:\n",
    "    print(100)"
   ]
  },
  {
   "cell_type": "code",
   "execution_count": null,
   "id": "fe24843a-43ca-4362-b310-a242b9b83f1e",
   "metadata": {},
   "outputs": [],
   "source": [
    "L=[1,2,3]\n",
    "L1 = L\n",
    "for i in L:\n",
    "    L1.append(L1[-1]+1)\n",
    "    print(L1) # 무한 반복 \n"
   ]
  },
  {
   "cell_type": "code",
   "execution_count": 36,
   "id": "e341cfec-a7d1-45de-963a-ca3e1611154b",
   "metadata": {},
   "outputs": [
    {
     "name": "stdout",
     "output_type": "stream",
     "text": [
      "[1, 2, 3, 4]\n",
      "[1, 2, 3, 4, 5]\n",
      "[1, 2, 3, 4, 5, 6]\n"
     ]
    }
   ],
   "source": [
    "L=[1,2,3]\n",
    "L1 = L[:]\n",
    "for i in L:\n",
    "    L1.append(L1[-1]+1)\n",
    "    print(L1) "
   ]
  },
  {
   "cell_type": "code",
   "execution_count": 37,
   "id": "6c43d3fb-4003-49b6-8975-277e74b2310f",
   "metadata": {},
   "outputs": [
    {
     "name": "stdout",
     "output_type": "stream",
     "text": [
      "[1, 2, 3, 4]\n",
      "[1, 2, 3, 4, 5]\n",
      "[1, 2, 3, 4, 5, 6]\n",
      "[1, 2, 3, 4, 5, 6, 7]\n",
      "Break\n"
     ]
    }
   ],
   "source": [
    "L=[1,2,3]\n",
    "L1 = L\n",
    "for i in L:\n",
    "    if(len(L1)>6):\n",
    "        print(\"Break\")\n",
    "        break\n",
    "    L1.append(L1[-1]+1)\n",
    "    print(L1) "
   ]
  },
  {
   "cell_type": "code",
   "execution_count": 38,
   "id": "7b66b0d4-38b4-4cd1-9c3d-6ba43cc783f2",
   "metadata": {},
   "outputs": [
    {
     "name": "stdout",
     "output_type": "stream",
     "text": [
      "[1, 2, 3, 4]\n",
      "[1, 2, 3, 4, 5]\n",
      "[1, 2, 3, 4, 5, 6]\n"
     ]
    }
   ],
   "source": [
    "L=[1,2,3]\n",
    "L1 = L\n",
    "for i in range(3):\n",
    "    L1.append(L1[-1]+1)\n",
    "    print(L1)"
   ]
  },
  {
   "cell_type": "code",
   "execution_count": 46,
   "id": "0b392651-73e1-43fb-96e9-32ca0824c0db",
   "metadata": {},
   "outputs": [
    {
     "name": "stdout",
     "output_type": "stream",
     "text": [
      "[2, 4, 6, 8, 10] [4, 8] [-2, 4, -6, 8, -10]\n"
     ]
    }
   ],
   "source": [
    "lis=[1,2,3,4,5]\n",
    "lis1=[i*2 for i in lis] # 최적화\n",
    "lis2=[i*2 for i in lis if i%2==0]\n",
    "lis3=[i*2 if i%2==0 else i*(-2) for i in lis]\n",
    "print(lis1, lis2, lis3)"
   ]
  },
  {
   "cell_type": "code",
   "execution_count": 49,
   "id": "3ee3ba39-8c6e-4fcb-8749-b897c4778746",
   "metadata": {},
   "outputs": [
    {
     "name": "stdout",
     "output_type": "stream",
     "text": [
      "(0, 10)\n",
      "(1, 20)\n",
      "(2, 30)\n",
      "(5, 'a')\n",
      "(6, 'b')\n",
      "(7, 'c')\n"
     ]
    }
   ],
   "source": [
    "lis = [10,20,30]\n",
    "for e in enumerate(lis):\n",
    "    print(e)\n",
    "\n",
    "lis1 = ['a','b','c']\n",
    "for e in enumerate(lis1, 5):\n",
    "    print(e)"
   ]
  }
 ],
 "metadata": {
  "kernelspec": {
   "display_name": "Python 3 (ipykernel)",
   "language": "python",
   "name": "python3"
  },
  "language_info": {
   "codemirror_mode": {
    "name": "ipython",
    "version": 3
   },
   "file_extension": ".py",
   "mimetype": "text/x-python",
   "name": "python",
   "nbconvert_exporter": "python",
   "pygments_lexer": "ipython3",
   "version": "3.11.7"
  }
 },
 "nbformat": 4,
 "nbformat_minor": 5
}
