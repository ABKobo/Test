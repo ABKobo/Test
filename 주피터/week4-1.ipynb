{
 "cells": [
  {
   "cell_type": "markdown",
   "id": "b5b70829-832f-4f8e-b601-ee7c057bd20b",
   "metadata": {},
   "source": [
    "# Lecture 5"
   ]
  },
  {
   "cell_type": "code",
   "execution_count": 12,
   "id": "bd3b3fa5-e1d5-4342-ac58-d8b418a61573",
   "metadata": {},
   "outputs": [
    {
     "name": "stdout",
     "output_type": "stream",
     "text": [
      "True True True\n"
     ]
    }
   ],
   "source": [
    "a=1.1\n",
    "b=\"A\"\n",
    "c=[1,\"a\"]\n",
    "print(bool(a),bool(b),bool(c))"
   ]
  },
  {
   "cell_type": "code",
   "execution_count": 13,
   "id": "9bce276b-f7e2-4d6d-bfd9-b1165c1e4ddc",
   "metadata": {},
   "outputs": [
    {
     "name": "stdout",
     "output_type": "stream",
     "text": [
      "False False False\n"
     ]
    }
   ],
   "source": [
    "a=0.0\n",
    "b=''\n",
    "c=[]\n",
    "print(bool(a),bool(b),bool(c))"
   ]
  },
  {
   "cell_type": "code",
   "execution_count": 19,
   "id": "5a184822-88de-4be9-932c-8852c58bcc31",
   "metadata": {},
   "outputs": [
    {
     "name": "stdout",
     "output_type": "stream",
     "text": [
      "True False\n",
      "True True\n",
      "1 2\n"
     ]
    }
   ],
   "source": [
    "# True = 1, False = 0\n",
    "print(True, False)\n",
    "print(True==1, False ==0.0)\n",
    "print(False+1, True+1)\n"
   ]
  },
  {
   "cell_type": "code",
   "execution_count": 1,
   "id": "109267ec-8d90-44de-9bed-6a1d79c2159d",
   "metadata": {
    "scrolled": true
   },
   "outputs": [
    {
     "name": "stdout",
     "output_type": "stream",
     "text": [
      "1\n",
      "3\n",
      "2\n",
      "0\n",
      "False\n",
      "True\n"
     ]
    }
   ],
   "source": [
    "# or: 둘중 하나만 True면 True\n",
    "# and: 둘다 True면 True\n",
    "# not: False면 True\n",
    "\n",
    "print(1 or 2) # 1: True\n",
    "print(0 or 3) # 0: False 3: True\n",
    "print(1 and 2) # 1: True 2: True\n",
    "print (0 and 3) # 0: False\n",
    "\n",
    "print(not(1 or 2))\n",
    "print(not(0 and 3))"
   ]
  },
  {
   "cell_type": "code",
   "execution_count": 29,
   "id": "4b10f2d2-50b5-46b4-9fea-808756ed749b",
   "metadata": {},
   "outputs": [
    {
     "name": "stdout",
     "output_type": "stream",
     "text": [
      "True\n",
      "True\n",
      "True\n",
      "False\n",
      "True\n",
      "False\n"
     ]
    }
   ],
   "source": [
    "print(0<1) #숫자\n",
    "# String은 유니코드로 크기 결정\n",
    "print('a'<'b') \n",
    "print('a'<'ab') \n",
    "print('a'<'A') \n",
    "print('%'<'@')\n",
    "print('가'<'a')"
   ]
  },
  {
   "cell_type": "code",
   "execution_count": 32,
   "id": "992d50a0-3aa9-447f-b1f8-8a89a63cf317",
   "metadata": {},
   "outputs": [
    {
     "name": "stdout",
     "output_type": "stream",
     "text": [
      "A\n",
      "97 44032\n"
     ]
    }
   ],
   "source": [
    "# ASCII Code\n",
    "# 0~9 > 48~57\n",
    "# A~Z > 65~90\n",
    "# a~z > 97~122\n",
    "print(chr(65))\n",
    "print(ord('a'), ord('가')) # 대부분 String 포함"
   ]
  },
  {
   "cell_type": "code",
   "execution_count": 33,
   "id": "5267314f-b6c4-488c-ab2d-6dd86f9994c7",
   "metadata": {},
   "outputs": [
    {
     "name": "stdout",
     "output_type": "stream",
     "text": [
      "NO\n"
     ]
    }
   ],
   "source": [
    "print(100<90 or \"NO\")"
   ]
  },
  {
   "cell_type": "code",
   "execution_count": 36,
   "id": "db1a59f0-0ed0-4e4b-950e-b96e63ab0545",
   "metadata": {},
   "outputs": [
    {
     "name": "stdout",
     "output_type": "stream",
     "text": [
      "E\n"
     ]
    }
   ],
   "source": [
    "# if 문\n",
    "a=1\n",
    "if 1>a:\n",
    "    print(\"S\")\n",
    "elif 1<a:\n",
    "    print(\"B\")\n",
    "else: # = elif a==1\n",
    "    print(\"E\")\n",
    "    \n",
    "# 1 tab = 4 space"
   ]
  },
  {
   "cell_type": "code",
   "execution_count": 39,
   "id": "3eace668-49ad-4222-9966-a71349d3f339",
   "metadata": {},
   "outputs": [
    {
     "name": "stdin",
     "output_type": "stream",
     "text": [
      "Score:  87\n"
     ]
    },
    {
     "name": "stdout",
     "output_type": "stream",
     "text": [
      "F\n"
     ]
    }
   ],
   "source": [
    "cheat = True\n",
    "score = int(input(\"Score: \"))\n",
    "if not cheat:\n",
    "    if score >= 90:\n",
    "        print(\"A\")\n",
    "    elif score >=80:\n",
    "        print(\"B\")\n",
    "    else:\n",
    "        print(\"F\")\n",
    "else:\n",
    "    print(\"F\")"
   ]
  },
  {
   "cell_type": "code",
   "execution_count": 41,
   "id": "abe2cbef-4b88-4eee-ba55-e9c1ba74e8c2",
   "metadata": {},
   "outputs": [
    {
     "name": "stdout",
     "output_type": "stream",
     "text": [
      "1\n",
      "4\n"
     ]
    }
   ],
   "source": [
    "# elif와 else는 바로 위의 if문 만을 따름 (if 사이에 다른 명령어 있을 시 에러)\n",
    "if(1>0):\n",
    "    print(1)\n",
    "if(1<0):\n",
    "    print(2)\n",
    "else:\n",
    "    print(4)"
   ]
  },
  {
   "cell_type": "markdown",
   "id": "45adeb73-832e-4099-a5c6-04be9b238a03",
   "metadata": {},
   "source": [
    "# Lecture 6"
   ]
  },
  {
   "cell_type": "code",
   "execution_count": 50,
   "id": "45a53438-2730-42f7-b440-078885e15f75",
   "metadata": {},
   "outputs": [
    {
     "name": "stdout",
     "output_type": "stream",
     "text": [
      "a\n",
      "b\n",
      "c\n",
      "d\n",
      "d\n"
     ]
    }
   ],
   "source": [
    "s=['a','b','c','d'] #set, tuple도 가능 \n",
    "for ss in s:\n",
    "    print(ss)\n",
    "print(ss)"
   ]
  },
  {
   "cell_type": "code",
   "execution_count": 51,
   "id": "735ebbb4-a302-4723-8b3c-62931839486f",
   "metadata": {},
   "outputs": [
    {
     "name": "stdout",
     "output_type": "stream",
     "text": [
      "P\n",
      "Y\n",
      "T\n",
      "H\n",
      "O\n",
      "N\n"
     ]
    }
   ],
   "source": [
    "p = \"Python\"\n",
    "for up in p:\n",
    "    up = up.upper()\n",
    "    print(up)"
   ]
  },
  {
   "cell_type": "code",
   "execution_count": 58,
   "id": "ab3d376f-72f7-49ef-bfcc-8b3598fcc6ba",
   "metadata": {},
   "outputs": [
    {
     "name": "stdout",
     "output_type": "stream",
     "text": [
      "A\n",
      "B\n",
      "1\n",
      "2\n",
      "('A', 1)\n",
      "('B', 2)\n",
      "A 1\n",
      "A's number is 1\n",
      "B 2\n",
      "B's number is 2\n"
     ]
    }
   ],
   "source": [
    "dic = {'A':1, 'B':2}\n",
    "for i in dic.keys():\n",
    "    print(i)\n",
    "for i in dic.values():\n",
    "    print(i)\n",
    "for i in dic.items():\n",
    "    print(i)\n",
    "for a, n in dic.items():\n",
    "    print(a, n)\n",
    "    print(f\"{a}'s number is {n}\")"
   ]
  },
  {
   "cell_type": "code",
   "execution_count": 59,
   "id": "e55d0b04-d022-4380-8a47-b32130261b65",
   "metadata": {},
   "outputs": [
    {
     "name": "stdout",
     "output_type": "stream",
     "text": [
      "1 2 3\n",
      "4 5 6\n",
      "7 8 9\n"
     ]
    }
   ],
   "source": [
    "for a,b,c in [(1,2,3),(4,5,6),(7,8,9)]:\n",
    "    print(a,b,c)"
   ]
  },
  {
   "cell_type": "code",
   "execution_count": 60,
   "id": "7afc9e6b-ab35-47e7-bc57-d0f1162a3c63",
   "metadata": {},
   "outputs": [
    {
     "name": "stdout",
     "output_type": "stream",
     "text": [
      "a\n"
     ]
    }
   ],
   "source": [
    "for a,b,c in [(1,2,3),(4,5,6),(7,8,9)]:\n",
    "    pass # 넘기기\n",
    "print('a')"
   ]
  },
  {
   "cell_type": "code",
   "execution_count": 63,
   "id": "c7d6ea74-a4bd-4584-81da-c69f157064a2",
   "metadata": {},
   "outputs": [
    {
     "name": "stdout",
     "output_type": "stream",
     "text": [
      "range(0, 10) <class 'range'>\n",
      "[0, 1, 2, 3, 4, 5, 6, 7, 8, 9]\n"
     ]
    }
   ],
   "source": [
    "# range(start,stop[,step])\n",
    "a=range(10)\n",
    "print(a, type(a))\n",
    "print(list(a))"
   ]
  },
  {
   "cell_type": "code",
   "execution_count": 66,
   "id": "dfd2390a-c999-4f40-b676-08b674052b70",
   "metadata": {},
   "outputs": [
    {
     "name": "stdout",
     "output_type": "stream",
     "text": [
      "2\n",
      "5\n",
      "8\n"
     ]
    }
   ],
   "source": [
    "for a in range(2,11,3):\n",
    "    print(a)"
   ]
  },
  {
   "cell_type": "code",
   "execution_count": 72,
   "id": "f598e1f2-b3f9-4d39-b35d-6ccb4a5eaf92",
   "metadata": {},
   "outputs": [
    {
     "name": "stdout",
     "output_type": "stream",
     "text": [
      "2 2\n",
      "2 3\n",
      "2 4\n",
      "3 2\n",
      "3 3\n",
      "3 4\n"
     ]
    }
   ],
   "source": [
    "lis = [1,2,3]\n",
    "for i in range(1,3):\n",
    "    for j in range(2,5):\n",
    "        print(str(lis[i])+\" \"+str(j))"
   ]
  }
 ],
 "metadata": {
  "kernelspec": {
   "display_name": "Python 3 (ipykernel)",
   "language": "python",
   "name": "python3"
  },
  "language_info": {
   "codemirror_mode": {
    "name": "ipython",
    "version": 3
   },
   "file_extension": ".py",
   "mimetype": "text/x-python",
   "name": "python",
   "nbconvert_exporter": "python",
   "pygments_lexer": "ipython3",
   "version": "3.11.7"
  }
 },
 "nbformat": 4,
 "nbformat_minor": 5
}
