{
 "cells": [
  {
   "cell_type": "code",
   "execution_count": null,
   "id": "7782ddfb-f2bf-40e7-bcca-93f0509ed9a6",
   "metadata": {},
   "outputs": [],
   "source": [
    "a=1\n",
    "b=1 # a,b=변수 1=값 140716192647608=1의 id\n",
    "print(id(a), id(b), id(1)) #id(a)=id(b)=id(1)"
   ]
  },
  {
   "cell_type": "code",
   "execution_count": 3,
   "id": "348825da-890e-4162-8b35-85b90df2c44d",
   "metadata": {},
   "outputs": [
    {
     "name": "stdin",
     "output_type": "stream",
     "text": [
      " a\n"
     ]
    },
    {
     "name": "stdout",
     "output_type": "stream",
     "text": [
      "a\n"
     ]
    },
    {
     "name": "stdin",
     "output_type": "stream",
     "text": [
      "이름: a\n"
     ]
    },
    {
     "name": "stdout",
     "output_type": "stream",
     "text": [
      "a\n"
     ]
    }
   ],
   "source": [
    "name=input() #직접 name에 입력후 출력\n",
    "print(name)\n",
    "name=input(\"이름:\") #input(문구)\n",
    "print(name)\n",
    "#input은 항상 글로 인식"
   ]
  },
  {
   "cell_type": "markdown",
   "id": "02e5e469-15e8-47a9-8e71-30f468952eeb",
   "metadata": {},
   "source": [
    "# Lecture 3"
   ]
  },
  {
   "cell_type": "code",
   "execution_count": null,
   "id": "629fdbd5-e96a-4285-97a7-8b9e011a56a5",
   "metadata": {},
   "outputs": [],
   "source": [
    "a=1\n",
    "print(type(a)) #int\n",
    "a=\"A\"\n",
    "print(type(a)) #str"
   ]
  },
  {
   "cell_type": "code",
   "execution_count": null,
   "id": "07f76e92-135f-410f-b236-23ec5b7e7d85",
   "metadata": {},
   "outputs": [],
   "source": [
    "F=input(\"Fahrenheit:\")\n",
    "F=float(F) #글을 숫자로 변경 (int/float)\n",
    "C=(F-32)*(5/9)\n",
    "print(C)"
   ]
  },
  {
   "cell_type": "code",
   "execution_count": 1,
   "id": "80187c08-c559-4578-89df-e3c40795007d",
   "metadata": {},
   "outputs": [
    {
     "name": "stdout",
     "output_type": "stream",
     "text": [
      "6 <class 'int'>\n",
      "6.0 <class 'float'>\n"
     ]
    }
   ],
   "source": [
    "a=2\n",
    "b=3\n",
    "c=a*b\n",
    "print(c,type(c))\n",
    "c=float(c)\n",
    "print(c,type(c))"
   ]
  },
  {
   "cell_type": "code",
   "execution_count": 2,
   "id": "39f61f52-cb60-449b-8006-13e794a15fde",
   "metadata": {},
   "outputs": [
    {
     "name": "stdout",
     "output_type": "stream",
     "text": [
      "6.09 <class 'float'>\n",
      "6 <class 'int'>\n"
     ]
    }
   ],
   "source": [
    "a=2.1\n",
    "b=2.9\n",
    "c=a*b\n",
    "print(c,type(c))\n",
    "c=int(c)\n",
    "print(c,type(c))"
   ]
  },
  {
   "cell_type": "code",
   "execution_count": 4,
   "id": "5fd512d0-cd79-4193-8916-f375f08fa741",
   "metadata": {},
   "outputs": [
    {
     "name": "stdout",
     "output_type": "stream",
     "text": [
      "2.0 <class 'float'>\n"
     ]
    }
   ],
   "source": [
    "a=4\n",
    "b=2\n",
    "c=a/b\n",
    "print(c,type(c)) #나누기는 항상 float"
   ]
  },
  {
   "cell_type": "code",
   "execution_count": null,
   "id": "146ca766-b012-4efd-9ea2-10ab0c3d1cc4",
   "metadata": {},
   "outputs": [],
   "source": [
    "a=2.0\n",
    "b=1\n",
    "c=a+b\n",
    "print(c,type(c)) #.0 붙어도 float"
   ]
  },
  {
   "cell_type": "code",
   "execution_count": 5,
   "id": "6432403e-24f6-46b9-a320-22a20e360924",
   "metadata": {},
   "outputs": [
    {
     "name": "stdout",
     "output_type": "stream",
     "text": [
      "2\n"
     ]
    }
   ],
   "source": [
    "s=\"2.3\"\n",
    "s=float(s) #int 사용시 오류\n",
    "s=int(s)\n",
    "print(s)"
   ]
  },
  {
   "cell_type": "code",
   "execution_count": 9,
   "id": "dc8a089a-206b-4903-8d1a-c9aa808be55c",
   "metadata": {},
   "outputs": [
    {
     "name": "stdout",
     "output_type": "stream",
     "text": [
      "0.3333333333333333\n"
     ]
    }
   ],
   "source": [
    "print(1/3) #무한소수 한계"
   ]
  },
  {
   "cell_type": "code",
   "execution_count": 10,
   "id": "1603eb3d-d71c-47c6-8d38-0d17b694e914",
   "metadata": {},
   "outputs": [
    {
     "name": "stdout",
     "output_type": "stream",
     "text": [
      "0.30000000000000004\n"
     ]
    }
   ],
   "source": [
    "print(0.1+0.2) #0.30000000000000004"
   ]
  }
 ],
 "metadata": {
  "kernelspec": {
   "display_name": "Python 3 (ipykernel)",
   "language": "python",
   "name": "python3"
  },
  "language_info": {
   "codemirror_mode": {
    "name": "ipython",
    "version": 3
   },
   "file_extension": ".py",
   "mimetype": "text/x-python",
   "name": "python",
   "nbconvert_exporter": "python",
   "pygments_lexer": "ipython3",
   "version": "3.11.7"
  }
 },
 "nbformat": 4,
 "nbformat_minor": 5
}
