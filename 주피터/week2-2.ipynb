{
 "cells": [
  {
   "cell_type": "code",
   "execution_count": 1,
   "id": "648ee191-d3d0-4654-9ddd-6c9b2374a20b",
   "metadata": {},
   "outputs": [
    {
     "name": "stdout",
     "output_type": "stream",
     "text": [
      "5.999999999999998\n"
     ]
    }
   ],
   "source": [
    "print(2.999999999999999*2)"
   ]
  },
  {
   "cell_type": "code",
   "execution_count": 6,
   "id": "ece9bfd5-2843-4634-9a6a-da1c149b82f9",
   "metadata": {},
   "outputs": [
    {
     "name": "stdout",
     "output_type": "stream",
     "text": [
      "6.0\n",
      "True\n"
     ]
    }
   ],
   "source": [
    "a=2.9999999999999999*2 #소수 16자리시 반올림\n",
    "print(a)\n",
    "print(a==6) "
   ]
  },
  {
   "cell_type": "code",
   "execution_count": 7,
   "id": "0f2e2d4f-3d42-4508-a3fb-85bec2464081",
   "metadata": {},
   "outputs": [
    {
     "name": "stdout",
     "output_type": "stream",
     "text": [
      "True\n"
     ]
    }
   ],
   "source": [
    "a=1\n",
    "b=1.0\n",
    "print(a==b)"
   ]
  },
  {
   "cell_type": "code",
   "execution_count": 10,
   "id": "18bfc839-cc57-4d11-92a3-03ec6d3cd748",
   "metadata": {},
   "outputs": [
    {
     "name": "stdout",
     "output_type": "stream",
     "text": [
      "0.001\n",
      "1e-05\n"
     ]
    }
   ],
   "source": [
    "print(0.001)\n",
    "print(0.00001) #소수 5자리부터 -10승"
   ]
  },
  {
   "cell_type": "markdown",
   "id": "d1816836-8441-4bfc-8d14-a92052edab59",
   "metadata": {},
   "source": [
    "# String"
   ]
  },
  {
   "cell_type": "code",
   "execution_count": 30,
   "id": "439c513d-e6d8-429d-b4c3-ef0de22a12ad",
   "metadata": {},
   "outputs": [
    {
     "name": "stdout",
     "output_type": "stream",
     "text": [
      "Hello World\n",
      "Hello World\n",
      "\"HI\"\n",
      "\"Hello\" \"World\"\n",
      "'Hello\" \"World'\n"
     ]
    }
   ],
   "source": [
    "print('Hello World')\n",
    "print(\"Hello World\")\n",
    "print('\"HI\"')\n",
    "print('''\"Hello\" \"World\"''') \n",
    "print(\"\"\"'Hello\" \"World'\"\"\") "
   ]
  },
  {
   "cell_type": "code",
   "execution_count": 24,
   "id": "bbae0543-91b3-4707-b411-09c717f8c596",
   "metadata": {},
   "outputs": [
    {
     "name": "stdout",
     "output_type": "stream",
     "text": [
      "Hello World.\n"
     ]
    }
   ],
   "source": [
    "a=\"Hello\"\n",
    "b=\"World\"\n",
    "print(a+\" \"+b+\".\")"
   ]
  },
  {
   "cell_type": "code",
   "execution_count": 25,
   "id": "4ad9181f-2ead-4a06-a25f-cafffcd14049",
   "metadata": {},
   "outputs": [
    {
     "name": "stdout",
     "output_type": "stream",
     "text": [
      "HelloWorld\n"
     ]
    }
   ],
   "source": [
    "s=\"Hello\" \"World\"\n",
    "print(s)"
   ]
  },
  {
   "cell_type": "code",
   "execution_count": 27,
   "id": "4e5f057f-ed58-4fae-a8f9-6f4a90e99f47",
   "metadata": {},
   "outputs": [
    {
     "name": "stdout",
     "output_type": "stream",
     "text": [
      "HIHIHI\n"
     ]
    }
   ],
   "source": [
    "a=\"HI\"\n",
    "a*=3 #3번 반복\n",
    "print(a) "
   ]
  },
  {
   "cell_type": "code",
   "execution_count": 28,
   "id": "fdc04a79-63d2-4099-9f1b-4328c1315390",
   "metadata": {},
   "outputs": [
    {
     "name": "stdout",
     "output_type": "stream",
     "text": [
      "\n"
     ]
    }
   ],
   "source": [
    "b=\"IH\"\n",
    "b*=-2 #글자가 0/음수로 반복 시 0번 반복\n",
    "print(b)"
   ]
  },
  {
   "cell_type": "code",
   "execution_count": 35,
   "id": "38ca4444-ad74-45b1-8b26-b04d9c7fa285",
   "metadata": {},
   "outputs": [
    {
     "name": "stdout",
     "output_type": "stream",
     "text": [
      "It's my life\n",
      "Life\\Style\n",
      "Hello\n",
      "World\n",
      "Hello\n",
      "World\n",
      "Hello\tWorld\n"
     ]
    }
   ],
   "source": [
    "print(\"It\\'s my life\") # \\는 생략\n",
    "print(\"Life\\\\Style\")\n",
    "print(\"Hello\\nWorld\") #\\n 는 새줄 newline\n",
    "print(\"\"\"Hello\n",
    "World\"\"\") #print(\"Hello\\nWorld\")와 동일\n",
    "print(\"Hello\\tWorld\") #\\t 는 탭 tab"
   ]
  },
  {
   "cell_type": "code",
   "execution_count": 40,
   "id": "8bb36d4a-7172-42d5-81f5-07d058f9ac61",
   "metadata": {},
   "outputs": [
    {
     "name": "stdout",
     "output_type": "stream",
     "text": [
      "12\n",
      "H\n",
      " \n",
      "H\n",
      "!\n"
     ]
    }
   ],
   "source": [
    "s=\"Hello World!\"\n",
    "print(len(s)) # length 길이. 띄어쓰기, 느낌표 포함\n",
    "print(s[0]) #0부터 시작\n",
    "print(s[5]) #6번째 글자 \" \"\n",
    "print(s[-12]) #뒤에서 부터도 가능\n",
    "print(s[-1]) # = s[11] = s[len(s)-1]"
   ]
  },
  {
   "cell_type": "code",
   "execution_count": 43,
   "id": "ea858783-8587-45c8-8e49-e8e93b674e4a",
   "metadata": {},
   "outputs": [
    {
     "name": "stdout",
     "output_type": "stream",
     "text": [
      "4\n",
      "0\n"
     ]
    }
   ],
   "source": [
    "s=\"    \" #스페이스 4번\n",
    "print(len(s))\n",
    "t=\"\" #아무 글자 없음\n",
    "print(len(t))"
   ]
  },
  {
   "cell_type": "markdown",
   "id": "dc95fa70-ab86-4c85-8332-aaa252afb33d",
   "metadata": {},
   "source": [
    "# 구간"
   ]
  },
  {
   "cell_type": "code",
   "execution_count": 54,
   "id": "89b2634e-96c2-43a5-ad43-7f1115343856",
   "metadata": {},
   "outputs": [
    {
     "name": "stdout",
     "output_type": "stream",
     "text": [
      "Hel\n",
      "ld!\n",
      "Hello World!\n",
      "Hello World!\n"
     ]
    }
   ],
   "source": [
    "s=\"Hello World!\"\n",
    "s1=s[0:3] # = s[:3] 처음부터\n",
    "print(s1)\n",
    "\n",
    "s2=s[9:12] # = s[9:] = s[:999] = s[-999:] 끝까지\n",
    "print(s2)\n",
    "\n",
    "s3=s[:] # = s[0:12] 전체\n",
    "print(s3)\n",
    "\n",
    "s4=s[-12:12] \n",
    "print(s4)"
   ]
  },
  {
   "cell_type": "markdown",
   "id": "bc355025-4114-479d-b9d8-81e9c9943592",
   "metadata": {},
   "source": [
    "열린구간, 닫힌구간\n",
    "2~12 11개\n",
    "(1,12] 12-1=11\n",
    "[2,13) 13-2=11\n",
    "\n",
    "0~4 \n",
    "(-1,4] 음수 포함\n",
    "[0,5) 음수 미포함\n",
    "\n",
    "[a,b) 사용"
   ]
  },
  {
   "cell_type": "code",
   "execution_count": 61,
   "id": "468b56d3-3890-4336-8f40-cae888482d4a",
   "metadata": {},
   "outputs": [
    {
     "name": "stdout",
     "output_type": "stream",
     "text": [
      "Hello World!\n",
      "Hello World!\n",
      "HloWrd\n",
      "!dlroW olle\n",
      "Hello World!\n",
      "Hello World!\n"
     ]
    }
   ],
   "source": [
    "s=\"Hello World!\"\n",
    "s1=s[:2]+s[2:5]+s[5:] #편리함\n",
    "print(s1)\n",
    "\n",
    "\"s[시작,끝,스텝]\"\n",
    "s2=s[0:12:1] # = s[0:12]\n",
    "print(s2)\n",
    "\n",
    "s3=s[0:12:2]\n",
    "print(s3)\n",
    "\n",
    "s4=s[12:0:-1] #거꾸로\n",
    "print(s4)\n",
    "\n",
    "s5=s[::] # = s[:]\n",
    "print(s5)\n",
    "\n",
    "s6=s[:len(s):] # = s[0:len(s);1]\n",
    "print(s6)"
   ]
  },
  {
   "cell_type": "code",
   "execution_count": 89,
   "id": "2af81c19-16da-4da7-a4fd-a96f2048fa46",
   "metadata": {},
   "outputs": [
    {
     "name": "stdout",
     "output_type": "stream",
     "text": [
      " HELLO O\n",
      " hello o\n",
      "False\n",
      "False\n",
      "1\n",
      "5\n",
      "elLo o\n",
      " HelLy y\n"
     ]
    }
   ],
   "source": [
    "s=\" HelLo o\"\n",
    "print(s.upper()) #전부 대문자\n",
    "print(s.lower()) #전부 소문자\n",
    "print(s.isupper()) #전부 대문자인지 아닌지\n",
    "print(s.islower()) #전부 소문자인지 아닌지\n",
    "print(s.count('l')) #l 개수 세기 L은 미포함\n",
    "print(s.find('o')) #가장 가까운 o 위치\n",
    "print(s.strip()) #첫번째 띄어쓰기 제거\n",
    "print(s.replace('o','y')) # o 전부 y로 변경"
   ]
  },
  {
   "cell_type": "code",
   "execution_count": 95,
   "id": "07e09306-cd9a-414c-8bdd-631441ee02a9",
   "metadata": {},
   "outputs": [
    {
     "name": "stdout",
     "output_type": "stream",
     "text": [
      "1 1\n",
      "5 -1\n",
      "wjea\n",
      "KnKwjeans\n"
     ]
    }
   ],
   "source": [
    "s=\"enewjeans\"\n",
    "s1=s.count('jean')\n",
    "s2=s.count('e',1,5) # 1부터 4까지 e개수\n",
    "print(s1,s2)\n",
    "\n",
    "s3=s.find('e',3) # = s.find('e',3,999) 3~998중 가장 가까운 거\n",
    "s4=s.find('e',7) # 없으면 -1 출력\n",
    "print(s3,s4)\n",
    "\n",
    "s5=s.strip('ens') #앞뒤로 막힐때 까 제거\n",
    "print(s5)\n",
    "\n",
    "s6=s.replace('e','K',2) #앞 2개\n",
    "print(s6)"
   ]
  },
  {
   "cell_type": "code",
   "execution_count": 2,
   "id": "86c5b6e2-3619-4beb-b64f-2d876bf9564f",
   "metadata": {},
   "outputs": [
    {
     "name": "stdout",
     "output_type": "stream",
     "text": [
      "True\n",
      "False\n",
      "False\n"
     ]
    }
   ],
   "source": [
    "s='ABC123'\n",
    "print(s.isalnum()) #알파벳과 숫자만 썼는\n",
    "t='@BC123'\n",
    "print(t.isalnum()) \n",
    "print(s.isalpha()) #알파벳만 썼는지\n",
    "print(s.isdigit()) #숫자만 썼는지"
   ]
  },
  {
   "cell_type": "markdown",
   "id": "7b738119-4a9b-4ca1-b485-60f357d6551c",
   "metadata": {},
   "source": [
    "# 응용"
   ]
  },
  {
   "cell_type": "code",
   "execution_count": 3,
   "id": "8173b0a8-6bfb-4ec7-8f5b-0c5168aa0f90",
   "metadata": {},
   "outputs": [
    {
     "name": "stdout",
     "output_type": "stream",
     "text": [
      "NEWJEAN\n"
     ]
    }
   ],
   "source": [
    "s=\"NewJeans\"\n",
    "s1=s[:-1].upper() # 0~-1까지만 출력, 대문자\n",
    "print(s1)"
   ]
  }
 ],
 "metadata": {
  "kernelspec": {
   "display_name": "Python 3 (ipykernel)",
   "language": "python",
   "name": "python3"
  },
  "language_info": {
   "codemirror_mode": {
    "name": "ipython",
    "version": 3
   },
   "file_extension": ".py",
   "mimetype": "text/x-python",
   "name": "python",
   "nbconvert_exporter": "python",
   "pygments_lexer": "ipython3",
   "version": "3.11.7"
  }
 },
 "nbformat": 4,
 "nbformat_minor": 5
}
