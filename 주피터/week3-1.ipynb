{
 "cells": [
  {
   "cell_type": "code",
   "execution_count": 15,
   "id": "e2ed9b21-c7cb-4b76-9b85-fcbbf8eef7a7",
   "metadata": {},
   "outputs": [
    {
     "name": "stdout",
     "output_type": "stream",
     "text": [
      "My name is K and I am 20\n"
     ]
    }
   ],
   "source": [
    "# %string\n",
    "name = \"K\"\n",
    "age = 20\n",
    "s=\"My name is %s and I am %d\" %(name,age)\n",
    "print(s)"
   ]
  },
  {
   "cell_type": "code",
   "execution_count": 16,
   "id": "0f51fd64-3edb-4032-afc7-97ce942374c0",
   "metadata": {},
   "outputs": [
    {
     "name": "stdout",
     "output_type": "stream",
     "text": [
      "My name is K and I am 20 My name is K and I am 20 My name is 20 and I am K\n"
     ]
    }
   ],
   "source": [
    "# str.format()\n",
    "name = \"K\"\n",
    "age = 20\n",
    "s=\"My name is {} and I am {}\".format(name,age)\n",
    "s1=\"My name is {0} and I am {1}\".format(name,age)\n",
    "s2=\"My name is {1} and I am {0}\".format(name,age)\n",
    "print(s,s1,s2)"
   ]
  },
  {
   "cell_type": "code",
   "execution_count": 48,
   "id": "b6228a62-9e6d-4433-9e32-67205b69cee5",
   "metadata": {},
   "outputs": [
    {
     "name": "stdout",
     "output_type": "stream",
     "text": [
      "My name is K and I am 20\n",
      "My name is k and I am 20, {ab}\n"
     ]
    }
   ],
   "source": [
    "# f-string 권장\n",
    "name, age = \"K\", 20\n",
    "s=f\"My name is {name} and I am {age}\"\n",
    "print(s)\n",
    "s1=f\"My name is {name.lower()} and I am {age}\"+\n",
    "print(s1)"
   ]
  },
  {
   "cell_type": "code",
   "execution_count": null,
   "id": "cd29d607-6dea-4571-b473-b798f391b537",
   "metadata": {},
   "outputs": [],
   "source": [
    "\"\"\"\n",
    "메모리: is 사용 (s.isupper)\n",
    "값: == 사용 (a==10)\n",
    "\"\"\""
   ]
  },
  {
   "cell_type": "code",
   "execution_count": 23,
   "id": "c8c0c38c-2ab8-4c0e-a56d-dd579cad45d6",
   "metadata": {},
   "outputs": [
    {
     "name": "stdout",
     "output_type": "stream",
     "text": [
      "2181260164144 2181260164144 2181260164144 2181260164144\n"
     ]
    }
   ],
   "source": [
    "a=\"Hello\"\n",
    "b=a\n",
    "c='Hello'\n",
    "d=b[:]\n",
    "print(id(a),id(b),id(c),id(d)) # 전부 ID 동일"
   ]
  },
  {
   "cell_type": "code",
   "execution_count": 32,
   "id": "1ca89bfa-1986-4bdd-919c-61b7068a059a",
   "metadata": {},
   "outputs": [
    {
     "name": "stdout",
     "output_type": "stream",
     "text": [
      "2181272378096 2181272378832\n",
      "True\n",
      "False\n",
      "2181272377712 2181272376880\n",
      "True\n",
      "False\n",
      "True\n"
     ]
    }
   ],
   "source": [
    "a=300\n",
    "b=300\n",
    "c=-10\n",
    "d=-10\n",
    "e=d\n",
    "print(id(a),id(b)) # id가 다름 \n",
    "print(a==b)\n",
    "print(a is b)\n",
    "print(id(c),id(d)) #-5~256만 기억\n",
    "print(c==d)\n",
    "print(c is d)\n",
    "print(d is e) # e=d라 id 동일"
   ]
  },
  {
   "cell_type": "code",
   "execution_count": 31,
   "id": "36d61fef-304d-4379-9a2d-ff90cb43e09b",
   "metadata": {},
   "outputs": [
    {
     "ename": "TypeError",
     "evalue": "'str' object does not support item assignment",
     "output_type": "error",
     "traceback": [
      "\u001b[1;31m---------------------------------------------------------------------------\u001b[0m",
      "\u001b[1;31mTypeError\u001b[0m                                 Traceback (most recent call last)",
      "Cell \u001b[1;32mIn[31], line 2\u001b[0m\n\u001b[0;32m      1\u001b[0m a\u001b[38;5;241m=\u001b[39m\u001b[38;5;124m\"\u001b[39m\u001b[38;5;124mHello\u001b[39m\u001b[38;5;124m\"\u001b[39m\n\u001b[1;32m----> 2\u001b[0m a[\u001b[38;5;241m1\u001b[39m]\u001b[38;5;241m=\u001b[39m\u001b[38;5;124m\"\u001b[39m\u001b[38;5;124mE\u001b[39m\u001b[38;5;124m\"\u001b[39m \u001b[38;5;66;03m#에러\u001b[39;00m\n\u001b[0;32m      3\u001b[0m \u001b[38;5;28mprint\u001b[39m(a)\n",
      "\u001b[1;31mTypeError\u001b[0m: 'str' object does not support item assignment"
     ]
    }
   ],
   "source": [
    "a=\"Hello\"\n",
    "a[1]=\"E\" #에러\n",
    "print(a) #글자는 불변"
   ]
  },
  {
   "cell_type": "code",
   "execution_count": 33,
   "id": "97bad79a-60e0-4461-a38f-3ef08ef409fb",
   "metadata": {},
   "outputs": [
    {
     "name": "stdout",
     "output_type": "stream",
     "text": [
      "2181272377392\n",
      "2181272376304\n"
     ]
    }
   ],
   "source": [
    "a=300\n",
    "print(id(a)) # id 버려\n",
    "a=300\n",
    "print(id(a)) #다른 id"
   ]
  },
  {
   "cell_type": "code",
   "execution_count": 41,
   "id": "1675ae57-ca4f-4fdb-8fac-98846791a5d9",
   "metadata": {},
   "outputs": [
    {
     "name": "stdout",
     "output_type": "stream",
     "text": [
      "False True\n",
      "True\n",
      "True\n"
     ]
    }
   ],
   "source": [
    "a=\"Hello#\" \n",
    "b=\"Hello#\" #특수문자는 다른 id 사용\n",
    "c=a\n",
    "print(a is b,a==b)\n",
    "print(a is c)\n",
    "a=\"Hello_\"\n",
    "b=\"Hello_\"\n",
    "print(a is b) # '_'는 예외"
   ]
  },
  {
   "cell_type": "code",
   "execution_count": 38,
   "id": "6c88ffc0-3f9a-4624-b5d6-9375fc492693",
   "metadata": {},
   "outputs": [
    {
     "name": "stdout",
     "output_type": "stream",
     "text": [
      "True False\n"
     ]
    }
   ],
   "source": [
    "a=1.0\n",
    "b=1\n",
    "print(a==b, a is b) #같은 값, 다른 id (다른 타입)"
   ]
  },
  {
   "cell_type": "code",
   "execution_count": 40,
   "id": "d172da84-9778-4faa-8f2f-6a9a300cc652",
   "metadata": {},
   "outputs": [
    {
     "name": "stdout",
     "output_type": "stream",
     "text": [
      "True\n"
     ]
    }
   ],
   "source": [
    "a,b=999,999 #두개 한번에 할때 \n",
    "print(a is b) #같은 id로 설정"
   ]
  },
  {
   "cell_type": "markdown",
   "id": "9a581b77-36f3-4c67-8e19-9fcde8c2b48c",
   "metadata": {},
   "source": [
    "# Lecture 4"
   ]
  },
  {
   "cell_type": "code",
   "execution_count": 50,
   "id": "34127ccb-5e6a-48e5-81f1-a3c1acab42cd",
   "metadata": {},
   "outputs": [
    {
     "name": "stdout",
     "output_type": "stream",
     "text": [
      "[1, 2, 3, 4] [1, '2', 3, '4']\n",
      "<class 'list'> <class 'list'>\n"
     ]
    }
   ],
   "source": [
    "v1=[1,2,3,4]\n",
    "v2=[1,\"2\",3,\"4\"] #어떤것이든 넣을 수 있음 (리스트 포함)\n",
    "print(v1,v2)\n",
    "print(type(v1),type(v2))"
   ]
  },
  {
   "cell_type": "code",
   "execution_count": 4,
   "id": "5c0b6488-fa68-4a3e-80e2-f10af660ef16",
   "metadata": {},
   "outputs": [
    {
     "name": "stdout",
     "output_type": "stream",
     "text": [
      "B B ['C', 'D', 'E'] ['A', 'C', 'E']\n"
     ]
    }
   ],
   "source": [
    "s=[\"A\",'B','C','D','E']\n",
    "print(s[1],s[-4],s[2:],s[::2])"
   ]
  },
  {
   "cell_type": "code",
   "execution_count": 5,
   "id": "cdf22832-24d2-4ef9-99f1-a8452bc03cfe",
   "metadata": {},
   "outputs": [
    {
     "name": "stdout",
     "output_type": "stream",
     "text": [
      "[1, '2', '3', 4]\n",
      "[1, '2', 1, '2']\n"
     ]
    }
   ],
   "source": [
    "v1=[1,\"2\"]\n",
    "v2=[\"3\",4]\n",
    "v3=v1+v2\n",
    "print(v3)\n",
    "print(v1*2)"
   ]
  },
  {
   "cell_type": "code",
   "execution_count": 8,
   "id": "aa1f2d10-3eab-4dc9-8ebd-26b2a32bc5ba",
   "metadata": {},
   "outputs": [
    {
     "name": "stdout",
     "output_type": "stream",
     "text": [
      "녕\n",
      "3\n"
     ]
    }
   ],
   "source": [
    "v=[\"안녕\",[1,2,3]]\n",
    "print(v[0][1])\n",
    "print(v[1][2])"
   ]
  },
  {
   "cell_type": "code",
   "execution_count": 17,
   "id": "c55cec2c-3df2-46f0-9fe9-4603657d44b0",
   "metadata": {},
   "outputs": [
    {
     "name": "stdout",
     "output_type": "stream",
     "text": [
      "2208991422592\n",
      "['a', 'e', 'c', 'd']\n",
      "['a', 'e', 'c', 'd'] 2208991422592\n",
      "['a', 'e', ['f', 'g'], 'd'] 2208991422592\n",
      "['a', 'h', 'i', 'j', 'k', 'd'] 2208991422592\n",
      "['a', 'h', 'l', 'm', 'n', 'o', 'k', 'd'] 2208991422592\n"
     ]
    }
   ],
   "source": [
    "v=['a','b','c','d']\n",
    "print(id(v))\n",
    "v[1]='e'\n",
    "print(v) #문자는 불변, 리스트는 변경 가능\n",
    "print(v, id(v)) # id 변경 없음\n",
    "v[2]=['f','g']\n",
    "print(v, id(v)) # id 변경 없음\n",
    "v[1:-1]=['h','i','j','k']\n",
    "print(v, id(v)) # id 변경 없음\n",
    "v[2:-2]=\"lmno\" # string은 쪼개져서 들어감 (숫자는 안됨)\n",
    "print(v,id(v)) # id 변경 없음"
   ]
  },
  {
   "cell_type": "code",
   "execution_count": 19,
   "id": "3439d946-9781-4a24-b529-3438cedfea73",
   "metadata": {},
   "outputs": [
    {
     "name": "stdout",
     "output_type": "stream",
     "text": [
      "2208990507776 2208991419840 2208990507776 2208991420928\n",
      "False True False\n"
     ]
    }
   ],
   "source": [
    "a=[1,2,'3']\n",
    "b=[1,2,'3']\n",
    "c=a\n",
    "d=a.copy() # 값만 복사 (id 복사 안됨)\n",
    "print(id(a),id(b),id(c),id(d))\n",
    "print(a is b, a is c, a is d) "
   ]
  },
  {
   "cell_type": "code",
   "execution_count": 23,
   "id": "92a4883a-dded-4ca3-b0cf-1b22b92e55e9",
   "metadata": {},
   "outputs": [
    {
     "name": "stdout",
     "output_type": "stream",
     "text": [
      "[]\n",
      "None\n"
     ]
    }
   ],
   "source": [
    "v=[1,2,'3']\n",
    "v.clear() #리스트 비우기\n",
    "print(v)\n",
    "print(v.clear()) #none"
   ]
  },
  {
   "cell_type": "code",
   "execution_count": 39,
   "id": "02e0a761-e293-48c6-8cf8-07be99b3c991",
   "metadata": {},
   "outputs": [
    {
     "name": "stdout",
     "output_type": "stream",
     "text": [
      "[1, 2, 3, 4]\n",
      "None\n",
      "[1, 2, 3, 4, 5, 5]\n",
      "[1, 2, 3, 4, 5, 5, 6, 7, 8]\n",
      "[1, 2, 3, 4, 5, 5, 6, 7, 9, 8]\n",
      "[1, [10, 11], 2, 3, 4, 5, 5, 6, 7, 9, 8, 11]\n",
      "[[10, 11], 2, 3, 4, 5, 5, 6, 7, 9, 8, 11]\n",
      "3 [[10, 11], 2, 4, 5, 5, 6, 7, 9, 8, 11]\n",
      "[[10, 11], 2, 4, 5, 5, 6, 7, 9, 8]\n",
      "[[10], 2, 4, 5, 5, 6, 7, 9, 8]\n",
      "[[10], 2, 4, 5, 5, 6, 7, 9, 8] None\n"
     ]
    }
   ],
   "source": [
    "v=[1,2,3]\n",
    "v.append(4) #끝에만 추 \n",
    "print(v)\n",
    "print(v.append(5)) #none\n",
    "\n",
    "v.extend([5]) # [] 포함 필요\n",
    "print(v)\n",
    "v1=[6,7,8]\n",
    "v.extend(v1) #리스트는 이미 [] 있음\n",
    "print(v)\n",
    "\n",
    "v.insert(-1,9)\n",
    "print(v)\n",
    "v.insert(1,[10,11])\n",
    "v.insert(len(v),11) #맨 끝에 추가\n",
    "print(v)\n",
    "\n",
    "v.pop(0) #0번째 제거\n",
    "print(v)\n",
    "v1=v.pop(2) #제거한 것 / v에서는 제거됨\n",
    "print(v1,v)\n",
    "\n",
    "v.remove(11) #맨 앞의 11 제거\n",
    "print(v)\n",
    "v[0].remove(11) #리스트 안의 11 제\n",
    "print(v)\n",
    "\n",
    "v.reverse() #뒤집기\n",
    "print(v, v.reverse()) # 뒤집기 none"
   ]
  },
  {
   "cell_type": "code",
   "execution_count": 41,
   "id": "532967f5-f809-4761-81dd-dc45207366de",
   "metadata": {},
   "outputs": [
    {
     "name": "stdout",
     "output_type": "stream",
     "text": [
      "[1, 2, 3] ['a', 'b', 'c']\n"
     ]
    }
   ],
   "source": [
    "vint=[2,3,1]\n",
    "vstr=['c','a','b'] # 숫자, 알파벳 정렬 (딴게 끼어있음 안됨)\n",
    "vint.sort()\n",
    "vstr.sort()\n",
    "print(vint,vstr)"
   ]
  },
  {
   "cell_type": "code",
   "execution_count": null,
   "id": "679e632e-b99a-423e-80ae-c75206d52578",
   "metadata": {},
   "outputs": [],
   "source": [
    "v1=[1,4,6]\n",
    "v2=v1\n",
    "v2.append(5)\n",
    "print(v1 is v2)"
   ]
  }
 ],
 "metadata": {
  "kernelspec": {
   "display_name": "Python 3 (ipykernel)",
   "language": "python",
   "name": "python3"
  },
  "language_info": {
   "codemirror_mode": {
    "name": "ipython",
    "version": 3
   },
   "file_extension": ".py",
   "mimetype": "text/x-python",
   "name": "python",
   "nbconvert_exporter": "python",
   "pygments_lexer": "ipython3",
   "version": "3.11.7"
  }
 },
 "nbformat": 4,
 "nbformat_minor": 5
}
